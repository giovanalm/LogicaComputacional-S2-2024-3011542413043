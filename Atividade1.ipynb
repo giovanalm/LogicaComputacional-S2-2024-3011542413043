{
 "cells": [
  {
   "cell_type": "code",
   "execution_count": 13,
   "id": "e66a3d66-e36e-4e1f-8b83-689cd70d15aa",
   "metadata": {},
   "outputs": [
    {
     "name": "stdout",
     "output_type": "stream",
     "text": [
      "  p     q     r     s    (p → q)    (r → s)    (p ∨ r)    Premissa   (q ∨ s)   Conclusão \n",
      "True  True  True  True     True       True       True       True       True       True   \n",
      "True  True  True  False    True      False       True      False       True       True   \n",
      "True  True  False True     True       True       True       True       True       True   \n",
      "True  True  False False    True       True       True       True       True       True   \n",
      "True  False True  True    False       True       True      False       True       True   \n",
      "True  False True  False   False      False       True      False      False       True   \n",
      "True  False False True    False       True       True      False       True       True   \n",
      "True  False False False   False       True       True      False      False       True   \n",
      "False True  True  True     True       True       True       True       True       True   \n",
      "False True  True  False    True      False       True      False       True       True   \n",
      "False True  False True     True       True      False      False       True       True   \n",
      "False True  False False    True       True      False      False       True       True   \n",
      "False False True  True     True       True       True       True       True       True   \n",
      "False False True  False    True      False       True      False      False       True   \n",
      "False False False True     True       True      False      False       True       True   \n",
      "False False False False    True       True      False      False      False       True   \n"
     ]
    }
   ],
   "source": [
    "#Giovana Lacerda Machado - Ciências de Dados para Negócios Noite - Fatec Votorantim\n",
    "# RA: 3011542413043 \n",
    "import itertools\n",
    "\n",
    "# Definir a implicação lógica\n",
    "def implicacao(a, b):\n",
    "    return not a or b\n",
    "\n",
    "# Gerar todas as combinações de valores verdadeiros/falsos\n",
    "valores = list(itertools.product([True, False], repeat=4))\n",
    "\n",
    "# Cabeçalhos dentro da tabela\n",
    "print(f\"{'p':^5} {'q':^5} {'r':^5} {'s':^5} {'(p → q)':^10} {'(r → s)':^10} {'(p ∨ r)':^10} {'Premissa':^10} {'(q ∨ s)':^10} {'Conclusão':^10}\")\n",
    "\n",
    "# Avaliar a expressão para cada combinação de valores\n",
    "for p, q, r, s in valores:\n",
    "    p_imp_q = implicacao(p, q)\n",
    "    r_imp_s = implicacao(r, s)\n",
    "    p_or_r = p or r\n",
    "    premissa = p_imp_q and r_imp_s and p_or_r\n",
    "    q_or_s = q or s\n",
    "    conclusao = implicacao(premissa, q_or_s)\n",
    "    \n",
    "    # Exibir a linha da tabela\n",
    "    print(f\"{p!s:^5} {q!s:^5} {r!s:^5} {s!s:^5} {p_imp_q!s:^10} {r_imp_s!s:^10} {p_or_r!s:^10} {premissa!s:^10} {q_or_s!s:^10} {conclusao!s:^10}\")"
   ]
  },
  {
   "cell_type": "code",
   "execution_count": null,
   "id": "1776c6bc-a3d3-4229-a67a-6e3b421f93c5",
   "metadata": {},
   "outputs": [],
   "source": []
  }
 ],
 "metadata": {
  "kernelspec": {
   "display_name": "Python 3 (ipykernel)",
   "language": "python",
   "name": "python3"
  },
  "language_info": {
   "codemirror_mode": {
    "name": "ipython",
    "version": 3
   },
   "file_extension": ".py",
   "mimetype": "text/x-python",
   "name": "python",
   "nbconvert_exporter": "python",
   "pygments_lexer": "ipython3",
   "version": "3.12.6"
  }
 },
 "nbformat": 4,
 "nbformat_minor": 5
}
